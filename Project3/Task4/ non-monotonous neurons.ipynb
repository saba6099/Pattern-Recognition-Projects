{
 "cells": [
  {
   "cell_type": "code",
   "execution_count": 1,
   "metadata": {
    "collapsed": true,
    "deletable": true,
    "editable": true,
    "slideshow": {
     "slide_type": "slide"
    }
   },
   "outputs": [],
   "source": [
    "import pandas as pd\n",
    "import numpy as np\n",
    "\n",
    "from matplotlib import pyplot as plt\n",
    "\n",
    "import seaborn as sns\n",
    "%matplotlib inline"
   ]
  },
  {
   "cell_type": "code",
   "execution_count": 2,
   "metadata": {
    "collapsed": false,
    "deletable": true,
    "editable": true,
    "slideshow": {
     "slide_type": "slide"
    }
   },
   "outputs": [
    {
     "data": {
      "text/plain": [
       "(2, 200)"
      ]
     },
     "execution_count": 2,
     "metadata": {},
     "output_type": "execute_result"
    }
   ],
   "source": [
    "X = pd.read_csv(\"xor-X.csv\",header=None).as_matrix()\n",
    "X.shape"
   ]
  },
  {
   "cell_type": "code",
   "execution_count": 3,
   "metadata": {
    "collapsed": false,
    "deletable": true,
    "editable": true,
    "slideshow": {
     "slide_type": "slide"
    }
   },
   "outputs": [
    {
     "data": {
      "text/plain": [
       "(1, 200)"
      ]
     },
     "execution_count": 3,
     "metadata": {},
     "output_type": "execute_result"
    }
   ],
   "source": [
    "Y = pd.read_csv(\"xor-y.csv\",header=None).as_matrix()\n",
    "\n",
    "# to create a row vector\n",
    "Y = Y.T\n",
    "Y.shape"
   ]
  },
  {
   "cell_type": "code",
   "execution_count": 4,
   "metadata": {
    "collapsed": true,
    "deletable": true,
    "editable": true,
    "slideshow": {
     "slide_type": "slide"
    }
   },
   "outputs": [],
   "source": [
    "# initialising constants\n",
    "m = X.shape[1]\n",
    "num_epochs = 100\n",
    "num_trials = 100"
   ]
  },
  {
   "cell_type": "code",
   "execution_count": 5,
   "metadata": {
    "collapsed": true,
    "deletable": true,
    "editable": true,
    "slideshow": {
     "slide_type": "slide"
    }
   },
   "outputs": [],
   "source": [
    "def activation(Z):\n",
    "    return 2*np.exp(-0.5*np.square(Z)) - 1"
   ]
  },
  {
   "cell_type": "code",
   "execution_count": 6,
   "metadata": {
    "collapsed": true,
    "deletable": true,
    "editable": true,
    "slideshow": {
     "slide_type": "slide"
    }
   },
   "outputs": [],
   "source": [
    "def loss_function(Y_hat,Y):\n",
    "    return 0.5*np.sum((Y_hat-Y)**2)"
   ]
  },
  {
   "cell_type": "code",
   "execution_count": 7,
   "metadata": {
    "collapsed": true,
    "deletable": true,
    "editable": true,
    "slideshow": {
     "slide_type": "slide"
    }
   },
   "outputs": [],
   "source": [
    "# method for generating hyper paramerters on logarithmic scale\n",
    "def generate_random_hyper_params():\n",
    "    \n",
    "    # selecting learning rate for theta  between 0.001 and 0.1\n",
    "    r = -2*(np.random.random_sample()) - 1\n",
    "    lr_theta = np.power(10,r)\n",
    "    \n",
    "    # selecting learning rate for weight vector  between 0.005 and 0.5\n",
    "    r = -2*(np.random.random_sample()) - 1\n",
    "    lr_W = np.power(10,r)*5\n",
    "    \n",
    "    return lr_W,lr_theta"
   ]
  },
  {
   "cell_type": "code",
   "execution_count": 8,
   "metadata": {
    "collapsed": false,
    "deletable": true,
    "editable": true,
    "slideshow": {
     "slide_type": "slide"
    }
   },
   "outputs": [],
   "source": [
    "#numpy array to store hyper parameters for plot\n",
    "params = np.empty((num_trials,3))"
   ]
  },
  {
   "cell_type": "code",
   "execution_count": 9,
   "metadata": {
    "collapsed": false,
    "deletable": true,
    "editable": true,
    "slideshow": {
     "slide_type": "slide"
    }
   },
   "outputs": [],
   "source": [
    "for trials in range(num_trials):\n",
    "    \n",
    "    bestParams = (0,0)\n",
    "    bestLoss = 99999999999\n",
    "    loss = 0\n",
    "    \n",
    "    #initialising parameters and hyper parameters\n",
    "    lr_W, lr_theta = generate_random_hyper_params()\n",
    "    W = np.random.randn(2,1)\n",
    "    theta = np.random.randn()\n",
    "    \n",
    "    for epoch in range(num_epochs):\n",
    "\n",
    "        # forward propagation\n",
    "        Z = np.dot(W.T,X) - theta\n",
    "        Y_hat = activation(Z)\n",
    "        loss = loss_function(Y_hat,Y)\n",
    "\n",
    "        #backward propagation\n",
    "        dE_dZ = (Y_hat-Y)*(Y_hat+1)*-Z\n",
    "        dE_dW = (1/m)*np.dot(X,dE_dZ.T)\n",
    "        dE_dtheta = -(1/m)*np.sum(dE_dZ)\n",
    "\n",
    "        # gradient descent\n",
    "        W = W - lr_W*dE_dW\n",
    "        theta = theta - lr_theta*dE_dtheta\n",
    "    \n",
    "    # saving the best parameters\n",
    "    if bestLoss > loss:\n",
    "        bestParams = (W,theta)\n",
    "        bestLoss = loss\n",
    "    \n",
    "    # saving hyper parameters\n",
    "    params[trials,0] = lr_W\n",
    "    params[trials,1] = lr_theta\n",
    "    params[trials,2] = loss\n",
    "\n"
   ]
  },
  {
   "cell_type": "code",
   "execution_count": 10,
   "metadata": {
    "collapsed": false,
    "deletable": true,
    "editable": true,
    "slideshow": {
     "slide_type": "slide"
    }
   },
   "outputs": [],
   "source": [
    "params_df = pd.DataFrame({\"Learning rate(W)\":params[:,0],\"Learning rate(theta)\":params[:,1],\"Loss\":params[:,2]})"
   ]
  },
  {
   "cell_type": "code",
   "execution_count": 11,
   "metadata": {
    "collapsed": false,
    "deletable": true,
    "editable": true,
    "slideshow": {
     "slide_type": "slide"
    }
   },
   "outputs": [
    {
     "data": {
      "text/plain": [
       "Learning rate(W)        0.241518\n",
       "Learning rate(theta)    0.086621\n",
       "Loss                    2.764351\n",
       "Name: 99, dtype: float64"
      ]
     },
     "execution_count": 11,
     "metadata": {},
     "output_type": "execute_result"
    }
   ],
   "source": [
    "params_df.iloc[params_df[\"Loss\"].idxmin()]"
   ]
  },
  {
   "cell_type": "code",
   "execution_count": 12,
   "metadata": {
    "collapsed": false,
    "deletable": true,
    "editable": true,
    "slideshow": {
     "slide_type": "slide"
    }
   },
   "outputs": [
    {
     "name": "stderr",
     "output_type": "stream",
     "text": [
      "/home/aakash/anaconda3/lib/python3.4/site-packages/pandas/core/computation/check.py:17: UserWarning: The installed version of numexpr 2.4.3 is not supported in pandas and will be not be used\n",
      "The minimum supported version is 2.4.6\n",
      "\n",
      "  ver=ver, min_ver=_MIN_NUMEXPR_VERSION), UserWarning)\n"
     ]
    }
   ],
   "source": [
    "params_df[\"inverse_Loss\"] = 1/params_df[\"Loss\"]"
   ]
  },
  {
   "cell_type": "code",
   "execution_count": 18,
   "metadata": {
    "collapsed": false,
    "deletable": true,
    "editable": true,
    "slideshow": {
     "slide_type": "slide"
    }
   },
   "outputs": [
    {
     "data": {
      "image/png": "[encoded data removed]",
      "text/plain": [
       "<Figure size 432x288 with 1 Axes>"
      ]
     },
     "metadata": {},
     "output_type": "display_data"
    }
   ],
   "source": [
    "ax = sns.scatterplot(data=params_df,x = \"Learning rate(W)\",y=\"Learning rate(theta)\",sizes=(20, 200),hue=\"inverse_Loss\",size=\"inverse_Loss\",palette=plt.cm.RdYlGn)\n",
    "ax.get_legend().remove()\n",
    "plt.yscale(\"log\")\n",
    "plt.xscale(\"log\")\n",
    "plt.show()"
   ]
  },
  {
   "cell_type": "code",
   "execution_count": 14,
   "metadata": {
    "collapsed": false,
    "deletable": true,
    "editable": true,
    "slideshow": {
     "slide_type": "slide"
    }
   },
   "outputs": [
    {
     "data": {
      "image/png": "[encoded data removed]",
      "text/plain": [
       "<Figure size 432x288 with 1 Axes>"
      ]
     },
     "metadata": {},
     "output_type": "display_data"
    }
   ],
   "source": [
    "ax = sns.scatterplot(data=params_df,x = \"Learning rate(W)\",y=\"Learning rate(theta)\",sizes=(20, 200),hue=\"inverse_Loss\",size=\"inverse_Loss\",palette=plt.cm.RdYlGn)\n",
    "ax.get_legend().remove()\n",
    "# plt.yscale(\"log\")\n",
    "# plt.xscale(\"log\")\n",
    "plt.show()"
   ]
  },
  {
   "cell_type": "code",
   "execution_count": 15,
   "metadata": {
    "collapsed": false,
    "deletable": true,
    "editable": true,
    "slideshow": {
     "slide_type": "slide"
    }
   },
   "outputs": [
    {
     "data": {
      "text/plain": [
       "(array([[-1.31793584],\n",
       "        [-1.29738998]]), 0.0489278047706683)"
      ]
     },
     "execution_count": 15,
     "metadata": {},
     "output_type": "execute_result"
    }
   ],
   "source": [
    "bestParams"
   ]
  },
  {
   "cell_type": "code",
   "execution_count": 16,
   "metadata": {
    "collapsed": true,
    "deletable": true,
    "editable": true,
    "slideshow": {
     "slide_type": "slide"
    }
   },
   "outputs": [],
   "source": [
    "def predict(X,params):\n",
    "    W = params[0]\n",
    "    theta = params[1]\n",
    "    Z = np.dot(W.T,X.T) - theta\n",
    "    Y = activation(Z)\n",
    "    Y[Y<0] = -1\n",
    "    Y[Y>=0] = 1\n",
    "    return Y.T"
   ]
  },
  {
   "cell_type": "code",
   "execution_count": 17,
   "metadata": {
    "collapsed": false,
    "deletable": true,
    "editable": true,
    "slideshow": {
     "slide_type": "slide"
    }
   },
   "outputs": [
    {
     "data": {
      "image/png": "[encoded data removed]",
      "text/plain": [
       "<Figure size 432x288 with 1 Axes>"
      ]
     },
     "metadata": {},
     "output_type": "display_data"
    }
   ],
   "source": [
    "h = 0.01\n",
    "\n",
    "# range of the visualisation\n",
    "X_train = X.T\n",
    "y=Y.T\n",
    "x_min, x_max = X_train[:, 0].min() - 1, X_train[:, 0].max() + 1\n",
    "y_min, y_max = X_train[:, 1].min() - 1, X_train[:, 1].max() + 1\n",
    "\n",
    "#generating data for plotting\n",
    "xx, yy = np.meshgrid(np.arange(x_min, x_max, h),\n",
    "                     np.arange(y_min, y_max, h))\n",
    "\n",
    "# predicting the values for the mesh\n",
    "Z = predict(np.c_[xx.ravel(), yy.ravel()],bestParams)\n",
    "Z = Z.reshape(xx.shape)\n",
    "\n",
    "#plotting the mesh\n",
    "plt.pcolormesh(xx, yy, Z, cmap=plt.cm.tab10)\n",
    "\n",
    "# Plot training points\n",
    "plt.scatter(X_train[:, 0], X_train[:, 1], c=y.reshape(y.shape[0],), cmap=plt.cm.tab10, edgecolor = 'black')\n",
    "plt.xlim(xx.min(), xx.max())\n",
    "plt.ylim(yy.min(), yy.max())\n",
    "plt.xlabel('Feature 1')\n",
    "plt.ylabel('Feature 2')\n",
    "plt.title(\"Binary classification\")    \n",
    "plt.show()"
   ]
  }
 ],
 "metadata": {
  "celltoolbar": "Slideshow",
  "kernelspec": {
   "display_name": "Python 3",
   "language": "python",
   "name": "python3"
  },
  "language_info": {
   "codemirror_mode": {
    "name": "ipython",
    "version": 3
   },
   "file_extension": ".py",
   "mimetype": "text/x-python",
   "name": "python",
   "nbconvert_exporter": "python",
   "pygments_lexer": "ipython3",
   "version": "3.4.5"
  }
 },
 "nbformat": 4,
 "nbformat_minor": 2
}
